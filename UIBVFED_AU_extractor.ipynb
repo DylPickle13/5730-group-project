{
  "nbformat": 4,
  "nbformat_minor": 0,
  "metadata": {
    "colab": {
      "provenance": []
    },
    "kernelspec": {
      "name": "python3",
      "display_name": "Python 3"
    },
    "language_info": {
      "name": "python"
    }
  },
  "cells": [
    {
      "cell_type": "markdown",
      "source": [
        "program extracts action units using py-feat from the UIBVFED dataset. Same as other extractor. Run time takes around an hour or so for 500 odd images."
      ],
      "metadata": {
        "id": "Udo9pARCZQ5d"
      }
    },
    {
      "cell_type": "code",
      "source": [
        "!pip install py-feat"
      ],
      "metadata": {
        "id": "zN8q57sebfEn"
      },
      "execution_count": null,
      "outputs": []
    },
    {
      "cell_type": "code",
      "execution_count": null,
      "metadata": {
        "id": "1iaNWAAcbV7W"
      },
      "outputs": [],
      "source": [
        "import os\n",
        "from feat import Detector\n",
        "import pandas as pd\n",
        "\n",
        "detector = Detector()\n",
        "\n",
        "df = pd.DataFrame()\n",
        "file_names = []\n",
        "\n",
        "for root, dirs, files in os.walk(\"UIBVFED\"):\n",
        "        for file in files:\n",
        "            if file.endswith(\".png\"):\n",
        "                single_face_prediction = detector.detect_image(os.path.join(root, file))\n",
        "                df = pd.concat([df, pd.DataFrame(single_face_prediction.aus)], axis=0)\n",
        "                file_names.append(file)\n",
        "                df.index = file_names\n",
        "df"
      ]
    },
    {
      "cell_type": "code",
      "source": [
        "df.to_csv(\"UIBVFED_AU.csv\")"
      ],
      "metadata": {
        "id": "sBpwpfsvsZV9"
      },
      "execution_count": null,
      "outputs": []
    }
  ]
}
