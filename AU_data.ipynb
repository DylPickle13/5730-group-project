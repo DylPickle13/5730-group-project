{
 "cells": [
  {
   "cell_type": "markdown",
   "metadata": {},
   "source": [
    "### Adding Emotion and Mouth position columns to the dataframe"
   ]
  },
  {
   "cell_type": "code",
   "execution_count": 42,
   "metadata": {},
   "outputs": [
    {
     "name": "stdout",
     "output_type": "stream",
     "text": [
      "               emotion  emotionID      mouth  mouthID      AU01      AU02  \\\n",
      "AF01_AC.bmp      angry          0     closed        1  0.495898  0.146762   \n",
      "AF01_AO.bmp      angry          0       open        3  0.282826  0.065132   \n",
      "AF01_CC.bmp       calm          1     closed        1  0.404276  0.129260   \n",
      "AF01_CO.bmp       calm          1       open        3  0.430970  0.289695   \n",
      "AF01_DC.bmp    disgust          2     closed        1  0.290751  0.143386   \n",
      "AF01_DO.bmp    disgust          2       open        3  0.432929  0.075790   \n",
      "AF01_FC.bmp       fear          3     closed        1  0.713720  0.474423   \n",
      "AF01_FO.bmp       fear          3       open        3  0.634923  0.563915   \n",
      "AF01_HC.bmp      happy          4     closed        1  0.566416  0.156642   \n",
      "AF01_HE.bmp      happy          4  exuberant        2  0.380238  0.290982   \n",
      "AF01_HO.bmp      happy          4       open        3  0.251061  0.258449   \n",
      "AF01_NC.bmp    neutral          5     closed        1  0.296070  0.181766   \n",
      "AF01_NO.bmp    neutral          5       open        3  0.249708  0.105011   \n",
      "AF01_SC.bmp        sad          6     closed        1  0.188280  0.071396   \n",
      "AF01_SUR.bmp  surprise          7        N/A        0  0.484307  0.262795   \n",
      "\n",
      "                  AU04      AU05      AU06  AU07  ...      AU14      AU15  \\\n",
      "AF01_AC.bmp   0.545297  0.330756  0.111141   0.0  ...  0.298766  0.344848   \n",
      "AF01_AO.bmp   0.942158  0.226143  0.292477   0.0  ...  0.185961  0.479480   \n",
      "AF01_CC.bmp   0.357161  0.320962  0.096767   0.0  ...  0.242355  0.059405   \n",
      "AF01_CO.bmp   0.333621  0.322538  0.278041   0.0  ...  0.427562  0.326581   \n",
      "AF01_DC.bmp   0.745663  0.217971  0.150398   1.0  ...  0.377913  0.337265   \n",
      "AF01_DO.bmp   0.968583  0.213365  0.709375   1.0  ...  0.446082  0.601992   \n",
      "AF01_FC.bmp   0.146429  0.386875  0.092873   0.0  ...  0.470580  0.200149   \n",
      "AF01_FO.bmp   0.287193  0.548537  0.083371   0.0  ...  0.112695  0.521195   \n",
      "AF01_HC.bmp   0.145011  0.273432  0.812377   0.0  ...  0.725379  0.227201   \n",
      "AF01_HE.bmp   0.257170  0.244299  0.871588   1.0  ...  0.806355  0.074480   \n",
      "AF01_HO.bmp   0.212252  0.245637  0.911198   1.0  ...  0.832235  0.042837   \n",
      "AF01_NC.bmp   0.392066  0.324482  0.098693   0.0  ...  0.188179  0.311879   \n",
      "AF01_NO.bmp   0.555546  0.317646  0.097367   0.0  ...  0.175636  0.042645   \n",
      "AF01_SC.bmp   0.336349  0.330355  0.086205   0.0  ...  0.207456  0.150256   \n",
      "AF01_SUR.bmp  0.299269  0.335726  0.145976   1.0  ...  0.098798  0.111431   \n",
      "\n",
      "                  AU17  AU20      AU23      AU24      AU25      AU26  \\\n",
      "AF01_AC.bmp   0.586086   0.0  0.389704  0.643651  0.018438  0.249684   \n",
      "AF01_AO.bmp   0.268650   1.0  0.567150  0.006962  0.999705  0.827675   \n",
      "AF01_CC.bmp   0.375923   0.0  0.188438  0.262807  0.309708  0.168132   \n",
      "AF01_CO.bmp   0.500979   1.0  0.528385  0.130655  0.936791  0.313177   \n",
      "AF01_DC.bmp   0.577663   0.0  0.434148  0.504560  0.162874  0.097812   \n",
      "AF01_DO.bmp   0.242090   1.0  0.435737  0.009090  0.998932  0.799313   \n",
      "AF01_FC.bmp   0.643134   0.0  0.500163  0.576644  0.014624  0.187702   \n",
      "AF01_FO.bmp   0.366182   0.0  0.547905  0.064094  0.949153  0.505749   \n",
      "AF01_HC.bmp   0.469390   1.0  0.416123  0.762060  0.463899  0.497063   \n",
      "AF01_HE.bmp   0.227175   1.0  0.198355  0.067555  0.998488  0.704829   \n",
      "AF01_HO.bmp   0.148146   1.0  0.155965  0.044193  0.999820  0.882769   \n",
      "AF01_NC.bmp   0.529864   0.0  0.449922  0.436825  0.022826  0.097798   \n",
      "AF01_NO.bmp   0.477203   0.0  0.317036  0.303976  0.463637  0.271092   \n",
      "AF01_SC.bmp   0.461525   0.0  0.120895  0.408183  0.005425  0.131631   \n",
      "AF01_SUR.bmp  0.314740   1.0  0.275734  0.011375  0.999745  0.834401   \n",
      "\n",
      "                  AU28      AU43  \n",
      "AF01_AC.bmp   0.458073  0.052183  \n",
      "AF01_AO.bmp   0.093376  0.907537  \n",
      "AF01_CC.bmp   0.104846  0.066702  \n",
      "AF01_CO.bmp   0.159254  0.027338  \n",
      "AF01_DC.bmp   0.292844  0.675935  \n",
      "AF01_DO.bmp   0.103111  0.902596  \n",
      "AF01_FC.bmp   0.461193  0.042590  \n",
      "AF01_FO.bmp   0.384922  0.140186  \n",
      "AF01_HC.bmp   0.355373  0.212617  \n",
      "AF01_HE.bmp   0.107847  0.051844  \n",
      "AF01_HO.bmp   0.039388  0.068881  \n",
      "AF01_NC.bmp   0.153871  0.027640  \n",
      "AF01_NO.bmp   0.149519  0.033809  \n",
      "AF01_SC.bmp   0.106222  0.061066  \n",
      "AF01_SUR.bmp  0.058932  0.050174  \n",
      "\n",
      "[15 rows x 24 columns]\n"
     ]
    }
   ],
   "source": [
    "import pandas as pd\n",
    "\n",
    "df = pd.read_csv('RADIATE_Color_Faces_AU.csv', index_col=0)\n",
    "\n",
    "df[\"emotion\"] = df.index\n",
    "df[\"emotion\"] = df[\"emotion\"].str.extract(r'.*_(.*).bmp')\n",
    "# extract (.)(.) from the emotion column\n",
    "temp = df[\"emotion\"].str.extract(r'(.)(.)')\n",
    "\n",
    "df[\"emotion\"] = temp[0]\n",
    "df[\"mouth\"] = temp[1]\n",
    "\n",
    "# if emotion is A, then replace A with angry\n",
    "df[\"emotion\"] = df[\"emotion\"].replace(\"A\", \"angry\")\n",
    "# if emotion is C, then replace H with calm\n",
    "df[\"emotion\"] = df[\"emotion\"].replace(\"C\", \"calm\")\n",
    "# if emotion is D, then replace D with disgust\n",
    "df[\"emotion\"] = df[\"emotion\"].replace(\"D\", \"disgust\")\n",
    "# if emotion is F, then replace F with fear\n",
    "df[\"emotion\"] = df[\"emotion\"].replace(\"F\", \"fear\")\n",
    "# if emotion is H, then replace H with happy\n",
    "df[\"emotion\"] = df[\"emotion\"].replace(\"H\", \"happy\")\n",
    "# if emotion is N, then replace N with neutral\n",
    "df[\"emotion\"] = df[\"emotion\"].replace(\"N\", \"neutral\")\n",
    "\n",
    "# if emotion is S, and mouth is U in the same row, then replace S with surprise\n",
    "df.loc[(df[\"emotion\"] == \"S\") & (df[\"mouth\"] == \"U\"), \"emotion\"] = \"surprise\"\n",
    "# if emotion is S, and mouth is not U in the same row, then replace S with sad\n",
    "df.loc[(df[\"emotion\"] == \"S\") & (df[\"mouth\"] != \"U\"), \"emotion\"] = \"sad\"\n",
    "\n",
    "# if mouth is O, then replace O with open\n",
    "df[\"mouth\"] = df[\"mouth\"].replace(\"O\", \"open\")\n",
    "# if mouth is C, then replace C with closed\n",
    "df[\"mouth\"] = df[\"mouth\"].replace(\"C\", \"closed\")\n",
    "# if mouth is U, then replace U with N/A\n",
    "df[\"mouth\"] = df[\"mouth\"].replace(\"U\", \"N/A\")\n",
    "# if mouth is E, then replace E with exuberant\n",
    "df[\"mouth\"] = df[\"mouth\"].replace(\"E\", \"exuberant\")\n",
    "\n",
    "# create an emotionID column\n",
    "df[\"emotionID\"] = df[\"emotion\"].astype('category').cat.codes\n",
    "\n",
    "# create a mouthID column\n",
    "df[\"mouthID\"] = df[\"mouth\"].astype('category').cat.codes\n",
    "\n",
    "# put the emotion and emotionID columns and mouth and mouthID columns at the beginning of the dataframe\n",
    "df = df[[\"emotion\", \"emotionID\", \"mouth\", \"mouthID\"] + [col for col in df.columns if col not in [\"emotion\", \"emotionID\", \"mouth\", \"mouthID\"]]]\n",
    "\n",
    "# print first 15 rows\n",
    "print(df.head(15))"
   ]
  },
  {
   "cell_type": "markdown",
   "metadata": {},
   "source": [
    "### Classifier"
   ]
  },
  {
   "cell_type": "code",
   "execution_count": 47,
   "metadata": {},
   "outputs": [
    {
     "name": "stdout",
     "output_type": "stream",
     "text": [
      "Accuracy: 0.6075581395348837\n"
     ]
    }
   ],
   "source": [
    "from sklearn.model_selection import train_test_split\n",
    "from sklearn.ensemble import RandomForestClassifier\n",
    "from sklearn.metrics import accuracy_score\n",
    "\n",
    "# train test split\n",
    "X = df.drop(columns=[\"emotion\", \"emotionID\", \"mouth\", \"mouthID\"])\n",
    "y = df[\"emotionID\"]\n",
    "X_train, X_test, y_train, y_test = train_test_split(X, y, test_size=0.2, random_state=42)\n",
    "\n",
    "# random forest classifier\n",
    "clf = RandomForestClassifier(n_estimators=50, random_state=42)\n",
    "clf.fit(X_train, y_train)\n",
    "y_pred = clf.predict(X_test)\n",
    "\n",
    "# accuracy\n",
    "print(\"Accuracy:\", accuracy_score(y_test, y_pred))"
   ]
  },
  {
   "cell_type": "markdown",
   "metadata": {},
   "source": [
    "### Feature Importance"
   ]
  },
  {
   "cell_type": "code",
   "execution_count": 44,
   "metadata": {},
   "outputs": [
    {
     "name": "stdout",
     "output_type": "stream",
     "text": [
      "Feature importance:\n",
      "AU04 0.09569031558046369\n",
      "AU12 0.09393626124589684\n",
      "AU01 0.07616078086147186\n",
      "AU06 0.07568996890537406\n",
      "AU02 0.07163818152576217\n",
      "AU09 0.06617147879766866\n",
      "AU14 0.06402221557185103\n",
      "AU05 0.04881467947958122\n",
      "AU10 0.048549233961793004\n",
      "AU15 0.04824138023722318\n",
      "AU25 0.04612976464314444\n",
      "AU43 0.04552812290178321\n",
      "AU24 0.0411927873296174\n",
      "AU17 0.04039245957275505\n",
      "AU26 0.039056741638330394\n",
      "AU23 0.03846580145850042\n",
      "AU28 0.036319812834320286\n",
      "AU07 0.010557989302876618\n",
      "AU11 0.006870419823505121\n",
      "AU20 0.006571604328081444\n"
     ]
    }
   ],
   "source": [
    "# feature importance\n",
    "feature_importance = clf.feature_importances_\n",
    "print(\"Feature importance:\")\n",
    "for i in feature_importance.argsort()[::-1]:\n",
    "    print(X.columns[i], feature_importance[i])"
   ]
  }
 ],
 "metadata": {
  "kernelspec": {
   "display_name": "Python 3",
   "language": "python",
   "name": "python3"
  },
  "language_info": {
   "codemirror_mode": {
    "name": "ipython",
    "version": 3
   },
   "file_extension": ".py",
   "mimetype": "text/x-python",
   "name": "python",
   "nbconvert_exporter": "python",
   "pygments_lexer": "ipython3",
   "version": "3.11.8"
  }
 },
 "nbformat": 4,
 "nbformat_minor": 2
}
