{
 "cells": [
  {
   "cell_type": "code",
   "execution_count": 2,
   "metadata": {},
   "outputs": [
    {
     "name": "stderr",
     "output_type": "stream",
     "text": [
      "C:\\Users\\super\\AppData\\Local\\Packages\\PythonSoftwareFoundation.Python.3.11_qbz5n2kfra8p0\\LocalCache\\local-packages\\Python311\\site-packages\\tqdm\\auto.py:21: TqdmWarning: IProgress not found. Please update jupyter and ipywidgets. See https://ipywidgets.readthedocs.io/en/stable/user_install.html\n",
      "  from .autonotebook import tqdm as notebook_tqdm\n",
      "C:\\Users\\super\\AppData\\Local\\Packages\\PythonSoftwareFoundation.Python.3.11_qbz5n2kfra8p0\\LocalCache\\local-packages\\Python311\\site-packages\\transformers\\utils\\generic.py:441: UserWarning: torch.utils._pytree._register_pytree_node is deprecated. Please use torch.utils._pytree.register_pytree_node instead.\n",
      "  _torch_pytree._register_pytree_node(\n"
     ]
    },
    {
     "data": {
      "text/plain": [
       "' df = pd.DataFrame()\\nfile_names = []\\n\\nfor root, dirs, files in os.walk(\"RADIATE Color Faces\"):\\n        for file in files:\\n            if file.endswith(\".bmp\"):\\n                single_face_prediction = detector.detect_image(os.path.join(root, file))\\n                df = pd.concat([df, pd.DataFrame(single_face_prediction.aus)], axis=0)\\n                file_names.append(file)\\n                df.index = file_names\\ndf '"
      ]
     },
     "execution_count": 2,
     "metadata": {},
     "output_type": "execute_result"
    }
   ],
   "source": [
    "import os\n",
    "from feat import Detector\n",
    "import pandas as pd\n",
    "\n",
    "\"\"\" detector = Detector(emotion_model='svm')\n",
    "\n",
    "df = pd.DataFrame()\n",
    "file_names = []\n",
    "\n",
    "for root, dirs, files in os.walk(\"RADIATE Color Faces\"):\n",
    "        for file in files:\n",
    "            if file.endswith(\".bmp\"):\n",
    "                single_face_prediction = detector.detect_image(os.path.join(root, file))\n",
    "                df = pd.concat([df, pd.DataFrame(single_face_prediction.aus)], axis=0)\n",
    "                file_names.append(file)\n",
    "                df.index = file_names\n",
    "df \"\"\""
   ]
  },
  {
   "cell_type": "code",
   "execution_count": 3,
   "metadata": {},
   "outputs": [],
   "source": [
    "#df.to_csv('RADIATE_Color_Faces_AU.csv')"
   ]
  }
 ],
 "metadata": {
  "kernelspec": {
   "display_name": "Python 3",
   "language": "python",
   "name": "python3"
  },
  "language_info": {
   "codemirror_mode": {
    "name": "ipython",
    "version": 3
   },
   "file_extension": ".py",
   "mimetype": "text/x-python",
   "name": "python",
   "nbconvert_exporter": "python",
   "pygments_lexer": "ipython3",
   "version": "3.11.8"
  }
 },
 "nbformat": 4,
 "nbformat_minor": 2
}
