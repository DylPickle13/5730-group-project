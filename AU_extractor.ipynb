{
 "cells": [
  {
   "cell_type": "code",
   "execution_count": 68,
   "metadata": {},
   "outputs": [
    {
     "name": "stderr",
     "output_type": "stream",
     "text": [
      "100%|██████████| 1/1 [00:01<00:00,  1.58s/it]\n",
      "100%|██████████| 1/1 [00:01<00:00,  1.41s/it]\n",
      "  0%|          | 0/1 [00:00<?, ?it/s]"
     ]
    }
   ],
   "source": [
    "import os\n",
    "from feat import Detector\n",
    "import pandas as pd\n",
    "\n",
    "detector = Detector(emotion_model='svm')\n",
    "\n",
    "# create a list of all the files in the directory\n",
    "aus = []\n",
    "df = pd.DataFrame()\n",
    "file_names = []\n",
    "\n",
    "for root, dirs, files in os.walk(\"RADIATE Color Faces\"):\n",
    "        for file in files:\n",
    "            if file.endswith(\".bmp\"):\n",
    "                single_face_prediction = detector.detect_image(os.path.join(root, file))\n",
    "                aus.append(single_face_prediction)\n",
    "                df = pd.concat([df, pd.DataFrame(single_face_prediction.aus)], axis=0)\n",
    "                # change the index of this row to the name of the file\n",
    "                file_names.append(file)\n",
    "                df.index = file_names\n",
    "\n",
    "df"
   ]
  }
 ],
 "metadata": {
  "kernelspec": {
   "display_name": "Python 3",
   "language": "python",
   "name": "python3"
  },
  "language_info": {
   "codemirror_mode": {
    "name": "ipython",
    "version": 3
   },
   "file_extension": ".py",
   "mimetype": "text/x-python",
   "name": "python",
   "nbconvert_exporter": "python",
   "pygments_lexer": "ipython3",
   "version": "3.11.8"
  }
 },
 "nbformat": 4,
 "nbformat_minor": 2
}
